{
 "cells": [
  {
   "cell_type": "code",
   "execution_count": 1,
   "metadata": {},
   "outputs": [],
   "source": [
    "import pandas as pd"
   ]
  },
  {
   "cell_type": "code",
   "execution_count": 67,
   "metadata": {},
   "outputs": [],
   "source": [
    "df = pd.read_csv(\"tweets_data.csv\")"
   ]
  },
  {
   "cell_type": "code",
   "execution_count": 68,
   "metadata": {},
   "outputs": [
    {
     "data": {
      "text/html": [
       "<div>\n",
       "<style scoped>\n",
       "    .dataframe tbody tr th:only-of-type {\n",
       "        vertical-align: middle;\n",
       "    }\n",
       "\n",
       "    .dataframe tbody tr th {\n",
       "        vertical-align: top;\n",
       "    }\n",
       "\n",
       "    .dataframe thead th {\n",
       "        text-align: right;\n",
       "    }\n",
       "</style>\n",
       "<table border=\"1\" class=\"dataframe\">\n",
       "  <thead>\n",
       "    <tr style=\"text-align: right;\">\n",
       "      <th></th>\n",
       "      <th>Unnamed: 0</th>\n",
       "      <th>Unnamed: 0.1</th>\n",
       "      <th>userid</th>\n",
       "      <th>tweetid</th>\n",
       "      <th>text</th>\n",
       "      <th>timestamp</th>\n",
       "      <th>location</th>\n",
       "      <th>Country</th>\n",
       "      <th>Country_new</th>\n",
       "      <th>state</th>\n",
       "    </tr>\n",
       "  </thead>\n",
       "  <tbody>\n",
       "    <tr>\n",
       "      <th>0</th>\n",
       "      <td>0</td>\n",
       "      <td>0</td>\n",
       "      <td>60730027</td>\n",
       "      <td>6.320673e+09</td>\n",
       "      <td>@thediscovietnam shit it ain't lettin me DM yo...</td>\n",
       "      <td>2009-12-03 18:31:01</td>\n",
       "      <td>Los Angeles</td>\n",
       "      <td>Los Angeles, Los Angeles County, California, U...</td>\n",
       "      <td>United States of America</td>\n",
       "      <td>California</td>\n",
       "    </tr>\n",
       "    <tr>\n",
       "      <th>1</th>\n",
       "      <td>1</td>\n",
       "      <td>1</td>\n",
       "      <td>60730027</td>\n",
       "      <td>6.319872e+09</td>\n",
       "      <td>@thediscovietnam hey cody, quick question...ca...</td>\n",
       "      <td>2009-12-03 18:01:51</td>\n",
       "      <td>Los Angeles</td>\n",
       "      <td>Los Angeles, Los Angeles County, California, U...</td>\n",
       "      <td>United States of America</td>\n",
       "      <td>California</td>\n",
       "    </tr>\n",
       "    <tr>\n",
       "      <th>2</th>\n",
       "      <td>2</td>\n",
       "      <td>2</td>\n",
       "      <td>60730027</td>\n",
       "      <td>6.318152e+09</td>\n",
       "      <td>@smokinvinyl dang.  you need anything?  I got ...</td>\n",
       "      <td>2009-12-03 17:00:16</td>\n",
       "      <td>Los Angeles</td>\n",
       "      <td>Los Angeles, Los Angeles County, California, U...</td>\n",
       "      <td>United States of America</td>\n",
       "      <td>California</td>\n",
       "    </tr>\n",
       "    <tr>\n",
       "      <th>3</th>\n",
       "      <td>3</td>\n",
       "      <td>3</td>\n",
       "      <td>60730027</td>\n",
       "      <td>6.317933e+09</td>\n",
       "      <td>maybe i'm late in the game on this one, but th...</td>\n",
       "      <td>2009-12-03 16:52:36</td>\n",
       "      <td>Los Angeles</td>\n",
       "      <td>Los Angeles, Los Angeles County, California, U...</td>\n",
       "      <td>United States of America</td>\n",
       "      <td>California</td>\n",
       "    </tr>\n",
       "    <tr>\n",
       "      <th>4</th>\n",
       "      <td>4</td>\n",
       "      <td>4</td>\n",
       "      <td>60730027</td>\n",
       "      <td>6.317701e+09</td>\n",
       "      <td>i really hope A.I. makes the most of this seco...</td>\n",
       "      <td>2009-12-03 16:44:37</td>\n",
       "      <td>Los Angeles</td>\n",
       "      <td>Los Angeles, Los Angeles County, California, U...</td>\n",
       "      <td>United States of America</td>\n",
       "      <td>California</td>\n",
       "    </tr>\n",
       "  </tbody>\n",
       "</table>\n",
       "</div>"
      ],
      "text/plain": [
       "   Unnamed: 0  Unnamed: 0.1    userid       tweetid  \\\n",
       "0           0             0  60730027  6.320673e+09   \n",
       "1           1             1  60730027  6.319872e+09   \n",
       "2           2             2  60730027  6.318152e+09   \n",
       "3           3             3  60730027  6.317933e+09   \n",
       "4           4             4  60730027  6.317701e+09   \n",
       "\n",
       "                                                text            timestamp  \\\n",
       "0  @thediscovietnam shit it ain't lettin me DM yo...  2009-12-03 18:31:01   \n",
       "1  @thediscovietnam hey cody, quick question...ca...  2009-12-03 18:01:51   \n",
       "2  @smokinvinyl dang.  you need anything?  I got ...  2009-12-03 17:00:16   \n",
       "3  maybe i'm late in the game on this one, but th...  2009-12-03 16:52:36   \n",
       "4  i really hope A.I. makes the most of this seco...  2009-12-03 16:44:37   \n",
       "\n",
       "      location                                            Country  \\\n",
       "0  Los Angeles  Los Angeles, Los Angeles County, California, U...   \n",
       "1  Los Angeles  Los Angeles, Los Angeles County, California, U...   \n",
       "2  Los Angeles  Los Angeles, Los Angeles County, California, U...   \n",
       "3  Los Angeles  Los Angeles, Los Angeles County, California, U...   \n",
       "4  Los Angeles  Los Angeles, Los Angeles County, California, U...   \n",
       "\n",
       "                Country_new       state  \n",
       "0  United States of America  California  \n",
       "1  United States of America  California  \n",
       "2  United States of America  California  \n",
       "3  United States of America  California  \n",
       "4  United States of America  California  "
      ]
     },
     "execution_count": 68,
     "metadata": {},
     "output_type": "execute_result"
    }
   ],
   "source": [
    "df.head()"
   ]
  },
  {
   "cell_type": "code",
   "execution_count": null,
   "metadata": {},
   "outputs": [],
   "source": []
  },
  {
   "cell_type": "code",
   "execution_count": 69,
   "metadata": {},
   "outputs": [],
   "source": [
    "df['text'] = df.groupby(['userid'])['text'].transform(lambda x: '~~'.join(x))"
   ]
  },
  {
   "cell_type": "code",
   "execution_count": 70,
   "metadata": {},
   "outputs": [],
   "source": [
    "df =df.drop(['timestamp','Unnamed: 0','tweetid','timestamp','location','Country','Country_new'],axis=1)"
   ]
  },
  {
   "cell_type": "code",
   "execution_count": 71,
   "metadata": {},
   "outputs": [],
   "source": [
    "df1 = df.groupby(\"userid\").filter(lambda x: len(x) > 50)"
   ]
  },
  {
   "cell_type": "code",
   "execution_count": 72,
   "metadata": {},
   "outputs": [
    {
     "data": {
      "text/plain": [
       "1127764"
      ]
     },
     "execution_count": 72,
     "metadata": {},
     "output_type": "execute_result"
    }
   ],
   "source": [
    "len(df1)"
   ]
  },
  {
   "cell_type": "code",
   "execution_count": 76,
   "metadata": {},
   "outputs": [],
   "source": [
    "df1 = df1.drop([\"Unnamed: 0.1\"],axis=1)"
   ]
  },
  {
   "cell_type": "code",
   "execution_count": 77,
   "metadata": {},
   "outputs": [],
   "source": [
    "df1 = df1.drop_duplicates()"
   ]
  },
  {
   "cell_type": "code",
   "execution_count": 75,
   "metadata": {},
   "outputs": [
    {
     "data": {
      "text/html": [
       "<div>\n",
       "<style scoped>\n",
       "    .dataframe tbody tr th:only-of-type {\n",
       "        vertical-align: middle;\n",
       "    }\n",
       "\n",
       "    .dataframe tbody tr th {\n",
       "        vertical-align: top;\n",
       "    }\n",
       "\n",
       "    .dataframe thead th {\n",
       "        text-align: right;\n",
       "    }\n",
       "</style>\n",
       "<table border=\"1\" class=\"dataframe\">\n",
       "  <thead>\n",
       "    <tr style=\"text-align: right;\">\n",
       "      <th></th>\n",
       "      <th>Unnamed: 0.1</th>\n",
       "      <th>userid</th>\n",
       "      <th>text</th>\n",
       "      <th>state</th>\n",
       "    </tr>\n",
       "  </thead>\n",
       "  <tbody>\n",
       "    <tr>\n",
       "      <th>0</th>\n",
       "      <td>0</td>\n",
       "      <td>60730027</td>\n",
       "      <td>@thediscovietnam shit it ain't lettin me DM yo...</td>\n",
       "      <td>California</td>\n",
       "    </tr>\n",
       "    <tr>\n",
       "      <th>1</th>\n",
       "      <td>1</td>\n",
       "      <td>60730027</td>\n",
       "      <td>@thediscovietnam shit it ain't lettin me DM yo...</td>\n",
       "      <td>California</td>\n",
       "    </tr>\n",
       "    <tr>\n",
       "      <th>2</th>\n",
       "      <td>2</td>\n",
       "      <td>60730027</td>\n",
       "      <td>@thediscovietnam shit it ain't lettin me DM yo...</td>\n",
       "      <td>California</td>\n",
       "    </tr>\n",
       "    <tr>\n",
       "      <th>3</th>\n",
       "      <td>3</td>\n",
       "      <td>60730027</td>\n",
       "      <td>@thediscovietnam shit it ain't lettin me DM yo...</td>\n",
       "      <td>California</td>\n",
       "    </tr>\n",
       "    <tr>\n",
       "      <th>4</th>\n",
       "      <td>4</td>\n",
       "      <td>60730027</td>\n",
       "      <td>@thediscovietnam shit it ain't lettin me DM yo...</td>\n",
       "      <td>California</td>\n",
       "    </tr>\n",
       "  </tbody>\n",
       "</table>\n",
       "</div>"
      ],
      "text/plain": [
       "   Unnamed: 0.1    userid                                               text  \\\n",
       "0             0  60730027  @thediscovietnam shit it ain't lettin me DM yo...   \n",
       "1             1  60730027  @thediscovietnam shit it ain't lettin me DM yo...   \n",
       "2             2  60730027  @thediscovietnam shit it ain't lettin me DM yo...   \n",
       "3             3  60730027  @thediscovietnam shit it ain't lettin me DM yo...   \n",
       "4             4  60730027  @thediscovietnam shit it ain't lettin me DM yo...   \n",
       "\n",
       "        state  \n",
       "0  California  \n",
       "1  California  \n",
       "2  California  \n",
       "3  California  \n",
       "4  California  "
      ]
     },
     "execution_count": 75,
     "metadata": {},
     "output_type": "execute_result"
    }
   ],
   "source": [
    "df1.head()"
   ]
  },
  {
   "cell_type": "code",
   "execution_count": 78,
   "metadata": {},
   "outputs": [
    {
     "data": {
      "text/plain": [
       "12713"
      ]
     },
     "execution_count": 78,
     "metadata": {},
     "output_type": "execute_result"
    }
   ],
   "source": [
    "len(df1)"
   ]
  },
  {
   "cell_type": "code",
   "execution_count": 82,
   "metadata": {},
   "outputs": [],
   "source": [
    "df2 = df1.groupby(\"state\").filter(lambda x: len(x) > 50)"
   ]
  },
  {
   "cell_type": "code",
   "execution_count": 85,
   "metadata": {},
   "outputs": [
    {
     "data": {
      "text/plain": [
       "31"
      ]
     },
     "execution_count": 85,
     "metadata": {},
     "output_type": "execute_result"
    }
   ],
   "source": [
    "len(df2['state'].unique())"
   ]
  },
  {
   "cell_type": "code",
   "execution_count": 86,
   "metadata": {},
   "outputs": [],
   "source": [
    "df2.to_csv(\"tweets_grouped.csv\")"
   ]
  }
 ],
 "metadata": {
  "kernelspec": {
   "display_name": "Python 3",
   "language": "python",
   "name": "python3"
  },
  "language_info": {
   "codemirror_mode": {
    "name": "ipython",
    "version": 3
   },
   "file_extension": ".py",
   "mimetype": "text/x-python",
   "name": "python",
   "nbconvert_exporter": "python",
   "pygments_lexer": "ipython3",
   "version": "3.6.4"
  }
 },
 "nbformat": 4,
 "nbformat_minor": 2
}
